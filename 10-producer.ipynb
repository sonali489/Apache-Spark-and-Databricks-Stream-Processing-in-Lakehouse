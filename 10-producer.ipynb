{
 "cells": [
  {
   "cell_type": "code",
   "execution_count": 0,
   "metadata": {
    "application/vnd.databricks.v1+cell": {
     "cellMetadata": {},
     "inputWidgets": {},
     "nuid": "2d3a2b00-58a6-4482-b9b3-e7881ac0d9eb",
     "showTitle": false,
     "tableResultSettingsMap": {},
     "title": ""
    }
   },
   "outputs": [],
   "source": [
    "%run ./01-config"
   ]
  },
  {
   "cell_type": "code",
   "execution_count": 0,
   "metadata": {
    "application/vnd.databricks.v1+cell": {
     "cellMetadata": {},
     "inputWidgets": {},
     "nuid": "4eaf641c-46ba-49ea-8d1e-8ca7248321b8",
     "showTitle": false,
     "tableResultSettingsMap": {},
     "title": ""
    }
   },
   "outputs": [],
   "source": [
    "class Producer():\n",
    "    def __init__(self):\n",
    "        self.Conf = Config()\n",
    "        self.landing_zone = self.Conf.base_dir_data + \"/raw\"      \n",
    "        self.test_data_dir = self.Conf.base_dir_data + \"/test_data\"\n",
    "        \n",
    "    # 5 methods to produce 5 datasets        \n",
    "    def user_registration(self, set_num):\n",
    "        source = f\"{self.test_data_dir}/1-registered_users_{set_num}.csv\"\n",
    "        target = f\"{self.landing_zone}/registered_users_bz/1-registered_users_{set_num}.csv\" \n",
    "        print(f\"Producing {source}...\", end='')\n",
    "        dbutils.fs.cp(source, target)\n",
    "        print(\"Done\")\n",
    "        \n",
    "    def profile_cdc(self, set_num):\n",
    "        source = f\"{self.test_data_dir}/2-user_info_{set_num}.json\"\n",
    "        target = f\"{self.landing_zone}/kafka_multiplex_bz/2-user_info_{set_num}.json\"\n",
    "        print(f\"Producing {source}...\", end='')\n",
    "        dbutils.fs.cp(source, target)\n",
    "        print(\"Done\")        \n",
    "        \n",
    "    def workout(self, set_num):\n",
    "        source = f\"{self.test_data_dir}/4-workout_{set_num}.json\"\n",
    "        target = f\"{self.landing_zone}/kafka_multiplex_bz/4-workout_{set_num}.json\"\n",
    "        print(f\"Producing {source}...\", end='')\n",
    "        dbutils.fs.cp(source, target)\n",
    "        print(\"Done\")\n",
    "        \n",
    "    def bpm(self, set_num):\n",
    "        source = f\"{self.test_data_dir}/3-bpm_{set_num}.json\"\n",
    "        target = f\"{self.landing_zone}/kafka_multiplex_bz/3-bpm_{set_num}.json\"\n",
    "        print(f\"Producing {source}...\", end='')\n",
    "        dbutils.fs.cp(source, target)\n",
    "        print(\"Done\")\n",
    "        \n",
    "    def gym_logins(self, set_num):\n",
    "        source = f\"{self.test_data_dir}/5-gym_logins_{set_num}.csv\"\n",
    "        target = f\"{self.landing_zone}/gym_logins_bz/5-gym_logins_{set_num}.csv\" \n",
    "        print(f\"Producing {source}...\", end='')\n",
    "        dbutils.fs.cp(source, target)\n",
    "        print(\"Done\")\n",
    "        \n",
    "    def produce(self, set_num):\n",
    "        import time\n",
    "        start = int(time.time())\n",
    "        print(f\"\\nProducing test data set {set_num} ...\")\n",
    "        if set_num <=2:\n",
    "            self.user_registration(set_num)\n",
    "            self.profile_cdc(set_num)        \n",
    "            self.workout(set_num)\n",
    "            self.gym_logins(set_num)\n",
    "        if set_num <=10:\n",
    "            self.bpm(set_num)\n",
    "        print(f\"Test data set {set_num} produced in {int(time.time()) - start} seconds\")\n",
    "    \n",
    "    def _validate_count(self, format, location, expected_count):\n",
    "        print(f\"Validating {location}...\", end='')\n",
    "        target = f\"{self.landing_zone}/{location}_*.{format}\"\n",
    "        actual_count = (spark.read\n",
    "                             .format(format)\n",
    "                             .option(\"header\",\"true\")\n",
    "                             .load(target).count())\n",
    "        assert actual_count == expected_count, f\"Expected {expected_count:,} records, found {actual_count:,} in {location}\"\n",
    "        print(f\"Found {actual_count:,} / Expected {expected_count:,} records: Success\")\n",
    "          \n",
    "    def validate(self, sets):\n",
    "        import time\n",
    "        start = int(time.time())\n",
    "        print(f\"\\nValidating test data {sets} sets...\")       \n",
    "        self._validate_count(\"csv\", \"registered_users_bz/1-registered_users\", 5 if sets == 1 else 10)\n",
    "        self._validate_count(\"json\",\"kafka_multiplex_bz/2-user_info\", 7 if sets == 1 else 13)\n",
    "        self._validate_count(\"json\",\"kafka_multiplex_bz/3-bpm\", sets * 253801)\n",
    "        self._validate_count(\"json\",\"kafka_multiplex_bz/4-workout\", 16 if sets == 1 else 32)  \n",
    "        self._validate_count(\"csv\", \"gym_logins_bz/5-gym_logins\", 8 if sets == 1 else 16)\n",
    "        #print(f\"Test data validation completed in {int(time.time()) - start} seconds\")"
   ]
  }
 ],
 "metadata": {
  "application/vnd.databricks.v1+notebook": {
   "computePreferences": null,
   "dashboards": [],
   "environmentMetadata": {
    "base_environment": "",
    "environment_version": "2"
   },
   "inputWidgetPreferences": null,
   "language": "python",
   "notebookMetadata": {
    "pythonIndentUnit": 4
   },
   "notebookName": "10-producer",
   "widgets": {}
  },
  "language_info": {
   "name": "python"
  }
 },
 "nbformat": 4,
 "nbformat_minor": 0
}
