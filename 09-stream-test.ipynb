{
 "cells": [
  {
   "cell_type": "code",
   "execution_count": 0,
   "metadata": {
    "application/vnd.databricks.v1+cell": {
     "cellMetadata": {},
     "inputWidgets": {},
     "nuid": "c535e3f3-1ea5-4a35-9fc6-ad071ce3c241",
     "showTitle": false,
     "tableResultSettingsMap": {},
     "title": ""
    }
   },
   "outputs": [],
   "source": [
    "dbutils.widgets.text(\"Environment\", \"dev\", \"Set the current environment/catalog name\")\n",
    "dbutils.widgets.text(\"Host\", \"\", \"Databricks Workspace URL\")\n",
    "dbutils.widgets.text(\"AccessToken\", \"\", \"Secure Access Token\")"
   ]
  },
  {
   "cell_type": "code",
   "execution_count": 0,
   "metadata": {
    "application/vnd.databricks.v1+cell": {
     "cellMetadata": {},
     "inputWidgets": {},
     "nuid": "dda76b7c-68cd-4f61-a347-4bf300abed26",
     "showTitle": false,
     "tableResultSettingsMap": {},
     "title": ""
    }
   },
   "outputs": [],
   "source": [
    "env = dbutils.widgets.get(\"Environment\")\n",
    "host = dbutils.widgets.get(\"Host\")\n",
    "token = dbutils.widgets.get(\"AccessToken\")"
   ]
  },
  {
   "cell_type": "code",
   "execution_count": 0,
   "metadata": {
    "application/vnd.databricks.v1+cell": {
     "cellMetadata": {},
     "inputWidgets": {},
     "nuid": "cfed6e9a-fffa-43e5-82c7-c23ebf80b62f",
     "showTitle": false,
     "tableResultSettingsMap": {},
     "title": ""
    }
   },
   "outputs": [],
   "source": [
    "%run ./02-setup"
   ]
  },
  {
   "cell_type": "code",
   "execution_count": 0,
   "metadata": {
    "application/vnd.databricks.v1+cell": {
     "cellMetadata": {},
     "inputWidgets": {},
     "nuid": "a9bbe76f-88a2-4316-8489-afb5d7fd8c41",
     "showTitle": false,
     "tableResultSettingsMap": {},
     "title": ""
    }
   },
   "outputs": [],
   "source": [
    "SH = SetupHelper(env)\n",
    "SH.cleanup()"
   ]
  },
  {
   "cell_type": "code",
   "execution_count": 0,
   "metadata": {
    "application/vnd.databricks.v1+cell": {
     "cellMetadata": {},
     "inputWidgets": {},
     "nuid": "37b69928-e2f5-4b71-8ead-9710ae0fb1cc",
     "showTitle": false,
     "tableResultSettingsMap": {},
     "title": ""
    }
   },
   "outputs": [],
   "source": [
    "#Job to start job cluster and run my notebook\n",
    "job_payload = \\\n",
    "{\n",
    "        \"name\": \"stream-test\",\n",
    "        \"webhook_notifications\": {},\n",
    "        \"timeout_seconds\": 0,\n",
    "        \"max_concurrent_runs\": 1,\n",
    "        \"tasks\": [\n",
    "            {\n",
    "                \"task_key\": \"stream-test-task\",\n",
    "                \"run_if\": \"ALL_SUCCESS\",\n",
    "                \"notebook_task\": {\n",
    "                    \"notebook_path\": \"/Repos/SBIT/SBIT/07-run\",\n",
    "                    \"source\": \"WORKSPACE\"\n",
    "                },\n",
    "                \"job_cluster_key\": \"Job_cluster\",\n",
    "                \"timeout_seconds\": 0,\n",
    "                \"email_notifications\": {}\n",
    "            }\n",
    "        ],\n",
    "        \"job_clusters\": [\n",
    "            {\n",
    "                \"job_cluster_key\": \"Job_cluster\",\n",
    "                \"new_cluster\": {\n",
    "                    \"spark_version\": \"13.3.x-scala2.12\",\n",
    "                    \"spark_conf\": {\n",
    "                        \"spark.databricks.delta.preview.enabled\": \"true\",\n",
    "                        \"spark.master\": \"local[*, 4]\",\n",
    "                        \"spark.databricks.cluster.profile\": \"singleNode\"\n",
    "                    },\n",
    "                    \"azure_attributes\": {\n",
    "                        \"first_on_demand\": 1,\n",
    "                        \"availability\": \"ON_DEMAND_AZURE\",\n",
    "                        \"spot_bid_max_price\": -1\n",
    "                    },\n",
    "                    \"node_type_id\": \"Standard_DS4_v2\",\n",
    "                    \"driver_node_type_id\": \"Standard_DS4_v2\",\n",
    "                    \"custom_tags\": {\n",
    "                        \"ResourceClass\": \"SingleNode\"\n",
    "                    },\n",
    "                    \"data_security_mode\": \"SINGLE_USER\",\n",
    "                    \"runtime_engine\": \"STANDARD\",\n",
    "                    \"num_workers\": 0\n",
    "                }\n",
    "            }\n",
    "        ],\n",
    "        \"format\": \"MULTI_TASK\"\n",
    "    }\n"
   ]
  },
  {
   "cell_type": "code",
   "execution_count": 0,
   "metadata": {
    "application/vnd.databricks.v1+cell": {
     "cellMetadata": {},
     "inputWidgets": {},
     "nuid": "6d9a9eec-2397-4995-b898-2f4774af1b16",
     "showTitle": false,
     "tableResultSettingsMap": {},
     "title": ""
    }
   },
   "outputs": [],
   "source": [
    "# Create a streaming job\n",
    "import requests\n",
    "import json\n",
    "create_response = requests.post(host + '/api/2.1/jobs/create', data=json.dumps(job_payload), auth=(\"token\", token))\n",
    "print(f\"Response: {create_response}\")\n",
    "job_id = json.loads(create_response.content.decode('utf-8'))[\"job_id\"]\n",
    "print(f\"Created Job {job_id}\")\n"
   ]
  },
  {
   "cell_type": "code",
   "execution_count": 0,
   "metadata": {
    "application/vnd.databricks.v1+cell": {
     "cellMetadata": {},
     "inputWidgets": {},
     "nuid": "89a44541-b208-4c44-b11c-4d161ced144b",
     "showTitle": false,
     "tableResultSettingsMap": {},
     "title": ""
    }
   },
   "outputs": [],
   "source": [
    "# Trigger the streaming job\n",
    "run_payload = {\"job_id\": job_id, \"notebook_params\": {\"Environment\":env, \"RunType\": \"stream\", \"ProcessingTime\": \"1 seconds\"}}\n",
    "run_response = requests.post(host + '/api/2.1/jobs/run-now', data=json.dumps(run_payload), auth=(\"token\", token))\n",
    "run_id = json.loads(run_response.content.decode('utf-8'))[\"run_id\"]\n",
    "print(f\"Started Job run {run_id}\")"
   ]
  },
  {
   "cell_type": "code",
   "execution_count": 0,
   "metadata": {
    "application/vnd.databricks.v1+cell": {
     "cellMetadata": {},
     "inputWidgets": {},
     "nuid": "4c0d7987-a84e-4f86-98ef-f10a45e5e1dc",
     "showTitle": false,
     "tableResultSettingsMap": {},
     "title": ""
    }
   },
   "outputs": [],
   "source": [
    "# Wait until job starts\n",
    "import time\n",
    "status_payload = {\"run_id\": run_id}\n",
    "job_status=\"PENDING\"\n",
    "while job_status == \"PENDING\":\n",
    "    time.sleep(20)\n",
    "    status_job_response = requests.get(host + '/api/2.1/jobs/runs/get', data=json.dumps(status_payload), auth=(\"token\", token))\n",
    "    job_status = json.loads(status_job_response.content.decode('utf-8'))[\"tasks\"][0][\"state\"][\"life_cycle_state\"]  \n",
    "    print(job_status)    \n"
   ]
  },
  {
   "cell_type": "code",
   "execution_count": 0,
   "metadata": {
    "application/vnd.databricks.v1+cell": {
     "cellMetadata": {},
     "inputWidgets": {},
     "nuid": "f4aeeb48-ba8c-4bbb-a918-66f0c134d4eb",
     "showTitle": false,
     "tableResultSettingsMap": {},
     "title": ""
    }
   },
   "outputs": [],
   "source": [
    "# importing the required notebooks\n",
    "%run ./03-history-loader"
   ]
  },
  {
   "cell_type": "code",
   "execution_count": 0,
   "metadata": {
    "application/vnd.databricks.v1+cell": {
     "cellMetadata": {},
     "inputWidgets": {},
     "nuid": "06cf4124-b952-4a74-b505-e9b75c0aacea",
     "showTitle": false,
     "tableResultSettingsMap": {},
     "title": ""
    }
   },
   "outputs": [],
   "source": [
    "%run ./10-producer"
   ]
  },
  {
   "cell_type": "code",
   "execution_count": 0,
   "metadata": {
    "application/vnd.databricks.v1+cell": {
     "cellMetadata": {},
     "inputWidgets": {},
     "nuid": "701f7ed7-fa8b-411f-af95-29ceb54209fb",
     "showTitle": false,
     "tableResultSettingsMap": {},
     "title": ""
    }
   },
   "outputs": [],
   "source": [
    "%run ./04-bronze"
   ]
  },
  {
   "cell_type": "code",
   "execution_count": 0,
   "metadata": {
    "application/vnd.databricks.v1+cell": {
     "cellMetadata": {},
     "inputWidgets": {},
     "nuid": "3a7412b4-1ecb-415e-8f1c-1843b0095d3b",
     "showTitle": false,
     "tableResultSettingsMap": {},
     "title": ""
    }
   },
   "outputs": [],
   "source": [
    "%run ./05-silver"
   ]
  },
  {
   "cell_type": "code",
   "execution_count": 0,
   "metadata": {
    "application/vnd.databricks.v1+cell": {
     "cellMetadata": {},
     "inputWidgets": {},
     "nuid": "95c2e117-474e-4eeb-be58-487e53adc377",
     "showTitle": false,
     "tableResultSettingsMap": {},
     "title": ""
    }
   },
   "outputs": [],
   "source": [
    "%run ./06-gold\n"
   ]
  },
  {
   "cell_type": "code",
   "execution_count": 0,
   "metadata": {
    "application/vnd.databricks.v1+cell": {
     "cellMetadata": {},
     "inputWidgets": {},
     "nuid": "05d71aa7-652c-47ea-95dd-0c13ab39f2c0",
     "showTitle": false,
     "tableResultSettingsMap": {},
     "title": ""
    }
   },
   "outputs": [],
   "source": [
    "import time\n",
    "\n",
    "print(\"Sleep for 2 minutes and let setup and history loader finish...\")\n",
    "time.sleep(2*60)\n",
    "\n",
    "#Validate setup and history load\n",
    "HL = HistoryLoader(env)\n",
    "PR = Producer()\n",
    "BZ = Bronze(env)\n",
    "SL = Silver(env)\n",
    "GL = Gold(env)\n",
    "\n",
    "SH.validate()\n",
    "HL.validate()\n",
    "\n",
    "#Produce some incremantal\n",
    "PR.produce(1)\n",
    "PR.validate(1)"
   ]
  },
  {
   "cell_type": "code",
   "execution_count": 0,
   "metadata": {
    "application/vnd.databricks.v1+cell": {
     "cellMetadata": {},
     "inputWidgets": {},
     "nuid": "6bee95da-1184-4f98-ad41-c7cab442b469",
     "showTitle": false,
     "tableResultSettingsMap": {},
     "title": ""
    }
   },
   "outputs": [],
   "source": [
    "print(\"Sleep for 2 minutes and let microbatch pickup the data...\")\n",
    "time.sleep(2*60)\n",
    "\n",
    "#Validate bronze, silver and gold layer \n",
    "BZ.validate(1)\n",
    "SL.validate(1)\n",
    "GL.validate(1)\n",
    " \n",
    "\n",
    "#Produce some incremantal data and wait for micro batch\n",
    "PR.produce(2)\n",
    "PR.validate(2)"
   ]
  },
  {
   "cell_type": "code",
   "execution_count": 0,
   "metadata": {
    "application/vnd.databricks.v1+cell": {
     "cellMetadata": {},
     "inputWidgets": {},
     "nuid": "ef08c577-2c4a-4f04-b11b-dd16086ae344",
     "showTitle": false,
     "tableResultSettingsMap": {},
     "title": ""
    }
   },
   "outputs": [],
   "source": [
    "\n",
    "print(\"Sleep for 2 minutes and let microbatch pickup the data...\")\n",
    "time.sleep(2*60)\n",
    "\n",
    "#Validate bronze, silver and gold layer \n",
    "BZ.validate(2)\n",
    "SL.validate(2)\n",
    "GL.validate(2)"
   ]
  },
  {
   "cell_type": "code",
   "execution_count": 0,
   "metadata": {
    "application/vnd.databricks.v1+cell": {
     "cellMetadata": {},
     "inputWidgets": {},
     "nuid": "c2891d22-5236-451d-8a93-4a97f7ef2122",
     "showTitle": false,
     "tableResultSettingsMap": {},
     "title": ""
    }
   },
   "outputs": [],
   "source": [
    "#Terminate the streaming Job\n",
    "cancel_payload = {\"run_id\": run_id}\n",
    "cancel_response = requests.post(host + '/api/2.1/jobs/runs/cancel', data=json.dumps(cancel_payload), auth=(\"token\", token))\n",
    "print(f\"Canceled Job run {run_id}. Status {cancel_response}\")\n"
   ]
  },
  {
   "cell_type": "code",
   "execution_count": 0,
   "metadata": {
    "application/vnd.databricks.v1+cell": {
     "cellMetadata": {},
     "inputWidgets": {},
     "nuid": "7c522383-db40-46d4-a62e-160c5e2ec509",
     "showTitle": false,
     "tableResultSettingsMap": {},
     "title": ""
    }
   },
   "outputs": [],
   "source": [
    "#Delete the Job\n",
    "delete_job_payload = {\"job_id\": job_id}\n",
    "delete_job_response = requests.post(host + '/api/2.1/jobs/delete', data=json.dumps(delete_job_payload), auth=(\"token\", token))\n",
    "print(f\"Canceled Job run {run_id}. Status {delete_job_response}\")"
   ]
  },
  {
   "cell_type": "code",
   "execution_count": 0,
   "metadata": {
    "application/vnd.databricks.v1+cell": {
     "cellMetadata": {},
     "inputWidgets": {},
     "nuid": "d836638c-f59a-4ea6-a9cb-34dbb7183202",
     "showTitle": false,
     "tableResultSettingsMap": {},
     "title": ""
    }
   },
   "outputs": [],
   "source": [
    "dbutils.notebook.exit(\"SUCCESS\")"
   ]
  }
 ],
 "metadata": {
  "application/vnd.databricks.v1+notebook": {
   "computePreferences": null,
   "dashboards": [],
   "environmentMetadata": {
    "base_environment": "",
    "environment_version": "2"
   },
   "inputWidgetPreferences": null,
   "language": "python",
   "notebookMetadata": {
    "pythonIndentUnit": 4
   },
   "notebookName": "09-stream-test",
   "widgets": {}
  },
  "language_info": {
   "name": "python"
  }
 },
 "nbformat": 4,
 "nbformat_minor": 0
}
