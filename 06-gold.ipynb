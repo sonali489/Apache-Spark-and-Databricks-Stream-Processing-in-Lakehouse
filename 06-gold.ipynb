{
 "cells": [
  {
   "cell_type": "code",
   "execution_count": 0,
   "metadata": {
    "application/vnd.databricks.v1+cell": {
     "cellMetadata": {},
     "inputWidgets": {},
     "nuid": "7683eb1a-bde9-434b-837f-17fc7e195b05",
     "showTitle": false,
     "tableResultSettingsMap": {},
     "title": ""
    }
   },
   "outputs": [],
   "source": [
    "%run ./01-config"
   ]
  },
  {
   "cell_type": "code",
   "execution_count": 0,
   "metadata": {
    "application/vnd.databricks.v1+cell": {
     "cellMetadata": {},
     "inputWidgets": {},
     "nuid": "88973937-25f9-46de-875a-b45b94c9bf2b",
     "showTitle": false,
     "tableResultSettingsMap": {},
     "title": ""
    }
   },
   "outputs": [],
   "source": [
    "class Upserter:\n",
    "    def __init__(self, merge_query, temp_view_name):\n",
    "        self.merge_query = merge_query\n",
    "        self.temp_view_name = temp_view_name \n",
    "        \n",
    "    def upsert(self, df_micro_batch, batch_id):\n",
    "        df_micro_batch.createOrReplaceTempView(self.temp_view_name)\n",
    "        df_micro_batch._jdf.sparkSession().sql(self.merge_query)"
   ]
  },
  {
   "cell_type": "code",
   "execution_count": 0,
   "metadata": {
    "application/vnd.databricks.v1+cell": {
     "cellMetadata": {},
     "inputWidgets": {},
     "nuid": "d1ab6f91-f1f7-42ca-aabd-56da7ec2bbfc",
     "showTitle": false,
     "tableResultSettingsMap": {},
     "title": ""
    }
   },
   "outputs": [],
   "source": [
    "class Gold():\n",
    "    def __init__(self, env):\n",
    "        self.Conf = Config() \n",
    "        self.test_data_dir = self.Conf.base_dir_data + \"/test_data\"\n",
    "        self.checkpoint_base = self.Conf.base_dir_checkpoint + \"/checkpoints\"\n",
    "        self.catalog = env\n",
    "        self.db_name = self.Conf.db_name\n",
    "        self.maxFilesPerTrigger = self.Conf.maxFilesPerTrigger\n",
    "        spark.sql(f\"USE {self.catalog}.{self.db_name}\")\n",
    "        \n",
    "    def upsert_workout_bpm_summary(self, once=True, processing_time=\"15 seconds\", startingVersion=0):\n",
    "        from pyspark.sql import functions as F\n",
    "        \n",
    "        #Idempotent - Once a workout session is complete, It doesn't change. So insert only the new records\n",
    "        query = f\"\"\"\n",
    "        MERGE INTO {self.catalog}.{self.db_name}.workout_bpm_summary a\n",
    "        USING workout_bpm_summary_delta b\n",
    "        ON a.user_id=b.user_id AND a.workout_id = b.workout_id AND a.session_id=b.session_id\n",
    "        WHEN NOT MATCHED THEN INSERT *\n",
    "        \"\"\"\n",
    "        \n",
    "        data_upserter=Upserter(query, \"workout_bpm_summary_delta\")\n",
    "        \n",
    "        df_users = spark.read.table(f\"{self.catalog}.{self.db_name}.user_bins\")\n",
    "        \n",
    "        df_delta = (spark.readStream\n",
    "                         .option(\"startingVersion\", startingVersion)\n",
    "                         #.option(\"ignoreDeletes\", True)\n",
    "                         #.option(\"withEventTimeOrder\", \"true\")\n",
    "                         #.option(\"maxFilesPerTrigger\", self.maxFilesPerTrigger)\n",
    "                         .table(f\"{self.catalog}.{self.db_name}.workout_bpm\")\n",
    "                         .withWatermark(\"end_time\", \"30 seconds\")\n",
    "                         .groupBy(\"user_id\", \"workout_id\", \"session_id\", \"end_time\")\n",
    "                         .agg(F.min(\"heartrate\").alias(\"min_bpm\"), F.mean(\"heartrate\").alias(\"avg_bpm\"), \n",
    "                              F.max(\"heartrate\").alias(\"max_bpm\"), F.count(\"heartrate\").alias(\"num_recordings\"))                         \n",
    "                         .join(df_users, [\"user_id\"])\n",
    "                         .select(\"workout_id\", \"session_id\", \"user_id\", \"age\", \"gender\", \"city\", \"state\", \"min_bpm\", \"avg_bpm\", \"max_bpm\", \"num_recordings\")\n",
    "                     )\n",
    "        \n",
    "        stream_writer = (df_delta.writeStream\n",
    "                                 .foreachBatch(data_upserter.upsert)\n",
    "                                 .outputMode(\"append\")\n",
    "                                 .option(\"checkpointLocation\", f\"{self.checkpoint_base}/workout_bpm_summary\")\n",
    "                                 .queryName(\"workout_bpm_summary_upsert_stream\")\n",
    "                        )\n",
    "        \n",
    "        spark.sparkContext.setLocalProperty(\"spark.scheduler.pool\", \"gold_p1\")\n",
    "        \n",
    "        if once == True:\n",
    "            return stream_writer.trigger(availableNow=True).start()\n",
    "        else:\n",
    "            return stream_writer.trigger(processingTime=processing_time).start()\n",
    "    \n",
    "    \n",
    "    def upsert(self, once=True, processing_time=\"5 seconds\"):\n",
    "        import time\n",
    "        start = int(time.time())\n",
    "        print(f\"\\nExecuting gold layer upsert ...\")\n",
    "        self.upsert_workout_bpm_summary(once, processing_time)\n",
    "        if once:\n",
    "            for stream in spark.streams.active:\n",
    "                stream.awaitTermination()\n",
    "        print(f\"Completed gold layer upsert {int(time.time()) - start} seconds\")\n",
    "        \n",
    "        \n",
    "    def assert_count(self, table_name, expected_count, filter=\"true\"):\n",
    "        print(f\"Validating record counts in {table_name}...\", end='')\n",
    "        actual_count = spark.read.table(f\"{self.catalog}.{self.db_name}.{table_name}\").where(filter).count()\n",
    "        assert actual_count == expected_count, f\"Expected {expected_count:,} records, found {actual_count:,} in {table_name} where {filter}\" \n",
    "        print(f\"Found {actual_count:,} / Expected {expected_count:,} records where {filter}: Success\") \n",
    "        \n",
    "    def assert_rows(self, location, table_name, sets):\n",
    "        print(f\"Validating records in {table_name}...\", end='')\n",
    "        expected_rows = spark.read.format(\"parquet\").load(f\"{self.test_data_dir}/{location}_{sets}.parquet\").collect()\n",
    "        actual_rows = spark.table(table_name).collect()\n",
    "        assert expected_rows == actual_rows, f\"Expected data mismatches with the actual data in {table_name}\"\n",
    "        print(f\"Expected data matches with the actual data in {table_name}: Success\")\n",
    "        \n",
    "        \n",
    "    def validate(self, sets):\n",
    "        import time\n",
    "        start = int(time.time())\n",
    "        print(f\"\\nValidating gold layer records...\" )       \n",
    "        self.assert_rows(\"7-gym_summary\", \"gym_summary\", sets)       \n",
    "        if sets>1:\n",
    "            self.assert_count(\"workout_bpm_summary\", 2)\n",
    "        print(f\"Gold layer validation completed in {int(time.time()) - start} seconds\")        "
   ]
  }
 ],
 "metadata": {
  "application/vnd.databricks.v1+notebook": {
   "computePreferences": null,
   "dashboards": [],
   "environmentMetadata": {
    "base_environment": "",
    "environment_version": "2"
   },
   "inputWidgetPreferences": null,
   "language": "python",
   "notebookMetadata": {
    "pythonIndentUnit": 4
   },
   "notebookName": "06-gold",
   "widgets": {}
  },
  "language_info": {
   "name": "python"
  }
 },
 "nbformat": 4,
 "nbformat_minor": 0
}
